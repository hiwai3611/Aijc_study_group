{
 "cells": [
  {
   "cell_type": "markdown",
   "metadata": {},
   "source": [
    "## 木の生成過程"
   ]
  },
  {
   "cell_type": "code",
   "execution_count": 1,
   "metadata": {
    "collapsed": true
   },
   "outputs": [],
   "source": [
    "import numpy as np\n",
    "import pandas as pd"
   ]
  },
  {
   "cell_type": "markdown",
   "metadata": {},
   "source": [
    "最初のノードを分割する"
   ]
  },
  {
   "cell_type": "code",
   "execution_count": 2,
   "metadata": {
    "collapsed": true
   },
   "outputs": [],
   "source": [
    "# ノードの分割\n",
    "def build(x, y):\n",
    "    '''\n",
    "    x: 説明変数\n",
    "    y: 目的変数\n",
    "    '''\n",
    "\n",
    "    num_data = x.shape[0] # データ数\n",
    "    num_features = x.shape[1] # 特徴量の数\n",
    "\n",
    "    best_gini_index = 0.0\n",
    "    best_feature = None\n",
    "    best_threshold = None\n",
    "    gini = 1.0\n",
    "\n",
    "    c_gini = gini_func(y)\n",
    "\n",
    "    for f in range(num_features):\n",
    "        data_f = np.unique(x[:, f])\n",
    "        points = (data_f[:-1,] + data_f[1:]) / 2.0\n",
    "\n",
    "        for threshold in points:\n",
    "\n",
    "            # しきい値でデータを2分割する\n",
    "            y_r = y[x[:, f] < threshold]\n",
    "            y_l = y[x[:, f] >= threshold]\n",
    "\n",
    "            # 分割したあとのノードそれぞれからGini係数を計算\n",
    "            gini_r = gini_func(y_r)\n",
    "            gini_l = gini_func(y_l)\n",
    "            pr = float(y_r.shape[0]) / num_data\n",
    "            pl = float(y_l.shape[0]) / num_data\n",
    "            gini_index = gini - (pl * gini_l + pr * gini_r)\n",
    "\n",
    "            # 算出したジニ係数がそれまでの最高よりも大きければ更新\n",
    "            if gini_index > best_gini_index:\n",
    "                best_gini_index = gini_index\n",
    "                best_feature = f\n",
    "                best_threshold = threshold\n",
    "    return best_feature, best_threshold"
   ]
  },
  {
   "cell_type": "code",
   "execution_count": 3,
   "metadata": {
    "collapsed": true
   },
   "outputs": [],
   "source": [
    "# 今回は不純度としてジニ係数を使用\n",
    "def gini_func(target):\n",
    "    val = 1.0\n",
    "    classes = np.unique(target)\n",
    "    num_data = len(target)\n",
    "    for c in classes:\n",
    "        p = float(len(target[target == c])) / num_data\n",
    "        val -= p ** 2.0\n",
    "\n",
    "    return val"
   ]
  },
  {
   "cell_type": "code",
   "execution_count": 4,
   "metadata": {},
   "outputs": [
    {
     "name": "stdout",
     "output_type": "stream",
     "text": [
      "Best Feature: Sex_female, Threshold: 0.5\n"
     ]
    }
   ],
   "source": [
    "# 試しに少量のデータのみ用いて実験\n",
    "df = pd.read_csv('../data/basedata/train.csv', nrows=10)\n",
    "x_columns = df.columns.tolist()[1:]\n",
    "x = np.array(df.iloc[:,1:])\n",
    "y = np.array(df.iloc[:,0])\n",
    "\n",
    "best_feature, best_threshold = build(x,y)\n",
    "print('Best Feature: {}, Threshold: {}'.format(x_columns[best_feature], best_threshold))"
   ]
  },
  {
   "cell_type": "code",
   "execution_count": 5,
   "metadata": {},
   "outputs": [
    {
     "name": "stdout",
     "output_type": "stream",
     "text": [
      "Right: [0 0 0 0 0] \n",
      "Left: [1 1 1 1 1]\n"
     ]
    }
   ],
   "source": [
    "# 結果の確認\n",
    "y_r = y[x[:, best_feature] < best_threshold]\n",
    "y_l = y[x[:, best_feature] >= best_threshold]\n",
    "print('Right: {} \\nLeft: {}'.format(y_r, y_l))"
   ]
  },
  {
   "cell_type": "code",
   "execution_count": 6,
   "metadata": {},
   "outputs": [
    {
     "name": "stdout",
     "output_type": "stream",
     "text": [
      "Right: [1 1 0 1] \n",
      "Left: [0 1 0 0 0 1]\n"
     ]
    }
   ],
   "source": [
    "# 別の特徴量での結果の確認\n",
    "y_r = y[x[:, best_feature - 2] < best_threshold]\n",
    "y_l = y[x[:, best_feature - 2] >= best_threshold]\n",
    "print('Right: {} \\nLeft: {}'.format(y_r, y_l))"
   ]
  },
  {
   "cell_type": "code",
   "execution_count": null,
   "metadata": {
    "collapsed": true
   },
   "outputs": [],
   "source": []
  },
  {
   "cell_type": "code",
   "execution_count": null,
   "metadata": {
    "collapsed": true
   },
   "outputs": [],
   "source": []
  },
  {
   "cell_type": "code",
   "execution_count": null,
   "metadata": {
    "collapsed": true
   },
   "outputs": [],
   "source": []
  }
 ],
 "metadata": {
  "kernelspec": {
   "display_name": "Python 3",
   "language": "python",
   "name": "python3"
  },
  "language_info": {
   "codemirror_mode": {
    "name": "ipython",
    "version": 3
   },
   "file_extension": ".py",
   "mimetype": "text/x-python",
   "name": "python",
   "nbconvert_exporter": "python",
   "pygments_lexer": "ipython3",
   "version": "3.6.6"
  }
 },
 "nbformat": 4,
 "nbformat_minor": 2
}
