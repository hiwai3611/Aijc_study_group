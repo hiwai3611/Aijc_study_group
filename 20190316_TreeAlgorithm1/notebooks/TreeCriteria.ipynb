{
 "cells": [
  {
   "cell_type": "markdown",
   "metadata": {},
   "source": [
    "## 不純度の実験\n",
    "ここでは交差エントロピーとジニ係数の試験をする   "
   ]
  },
  {
   "cell_type": "code",
   "execution_count": 1,
   "metadata": {
    "collapsed": true
   },
   "outputs": [],
   "source": [
    "import numpy as np"
   ]
  },
  {
   "cell_type": "markdown",
   "metadata": {},
   "source": [
    "### 状況設定\n",
    "識別規則により親ノードが以下のように分割されたと仮定   \n",
    "\n",
    "    親ノード → positive:negative = 50:50  (データ数：100）   \n",
    "    子ノード（右） → positive:negative = 20:80  (データ数：40）   \n",
    "    子ノード（左） → positive:negative = 90:10  (データ数：60）   "
   ]
  },
  {
   "cell_type": "code",
   "execution_count": 2,
   "metadata": {
    "collapsed": true
   },
   "outputs": [],
   "source": [
    "parent_node = np.concatenate([np.zeros([50,1]), np.ones([50,1])], axis=0)\n",
    "child_node_r = np.concatenate([np.zeros([8,1]), np.ones([32,1])], axis=0)\n",
    "child_node_l = np.concatenate([np.zeros([54,1]), np.ones([9,1])], axis=0)"
   ]
  },
  {
   "cell_type": "markdown",
   "metadata": {},
   "source": [
    "### エントロピー"
   ]
  },
  {
   "cell_type": "code",
   "execution_count": 3,
   "metadata": {
    "collapsed": true
   },
   "outputs": [],
   "source": [
    "def entropy(target):\n",
    "    classes = np.unique(target)\n",
    "    num_data = len(target)\n",
    "\n",
    "    val = 0\n",
    "    for c in classes:\n",
    "        p = float(len(target[target == c])) / num_data\n",
    "    if p!=0.0:\n",
    "        val -= p * np.log(p)\n",
    "\n",
    "    return val"
   ]
  },
  {
   "cell_type": "code",
   "execution_count": 4,
   "metadata": {},
   "outputs": [],
   "source": [
    "# 親ノードのエントロピー\n",
    "entropy_p = entropy(parent_node)\n",
    "\n",
    "# 分割後のノードのエントロピー\n",
    "entropy_cr = entropy(child_node_r)\n",
    "p_cr = len(child_node_r) / len(parent_node)\n",
    "entropy_cl = entropy(child_node_l)\n",
    "p_cl = len(child_node_l) / len(parent_node)\n",
    "\n",
    "# 子ノードのエントロピー\n",
    "entropy_c = (p_cr * entropy_cr) + (p_cl * entropy_cl)"
   ]
  },
  {
   "cell_type": "code",
   "execution_count": 5,
   "metadata": {},
   "outputs": [],
   "source": [
    "# エントロピーでの不純度の減り方\n",
    "impurity_e1 = entropy_p - entropy_c"
   ]
  },
  {
   "cell_type": "code",
   "execution_count": 6,
   "metadata": {},
   "outputs": [
    {
     "data": {
      "text/plain": [
       "0.10003574044444735"
      ]
     },
     "execution_count": 6,
     "metadata": {},
     "output_type": "execute_result"
    }
   ],
   "source": [
    "impurity_e1"
   ]
  },
  {
   "cell_type": "markdown",
   "metadata": {},
   "source": [
    "### ジニ係数"
   ]
  },
  {
   "cell_type": "code",
   "execution_count": 7,
   "metadata": {
    "collapsed": true
   },
   "outputs": [],
   "source": [
    "def gini_func(target):\n",
    "    val = 1.0\n",
    "    classes = np.unique(target)\n",
    "    num_data = len(target)\n",
    "    for c in classes:\n",
    "        p = float(len(target[target == c])) / num_data\n",
    "        val -= p ** 2.0\n",
    "\n",
    "    return val"
   ]
  },
  {
   "cell_type": "code",
   "execution_count": 8,
   "metadata": {},
   "outputs": [],
   "source": [
    "# 親ノードのジニ係数\n",
    "gini_p = gini_func(parent_node)\n",
    "\n",
    "# 子ノードのジニ係数\n",
    "gini_cr = gini_func(child_node_r)\n",
    "p_cr = len(child_node_r) / len(parent_node)\n",
    "gini_cl = gini_func(child_node_l)\n",
    "p_cl = len(child_node_l) / len(parent_node)\n",
    "gini_c = (p_cr * gini_cr) + (p_cl * gini_cl)"
   ]
  },
  {
   "cell_type": "code",
   "execution_count": 9,
   "metadata": {},
   "outputs": [],
   "source": [
    "# ジニ係数での不純度の減り方\n",
    "impurity_g1 = gini_p - gini_c"
   ]
  },
  {
   "cell_type": "code",
   "execution_count": 10,
   "metadata": {
    "scrolled": true
   },
   "outputs": [
    {
     "data": {
      "text/plain": [
       "0.21771428571428575"
      ]
     },
     "execution_count": 10,
     "metadata": {},
     "output_type": "execute_result"
    }
   ],
   "source": [
    "impurity_g1"
   ]
  },
  {
   "cell_type": "code",
   "execution_count": null,
   "metadata": {
    "collapsed": true
   },
   "outputs": [],
   "source": []
  },
  {
   "cell_type": "markdown",
   "metadata": {},
   "source": [
    "## 別の分割方法と結果を比べる"
   ]
  },
  {
   "cell_type": "code",
   "execution_count": 11,
   "metadata": {
    "collapsed": true
   },
   "outputs": [],
   "source": [
    "# 親ノードは同じで子ノード内の割合を変える\n",
    "parent_node = np.concatenate([np.zeros([50,1]), np.ones([50,1])], axis=0)\n",
    "child_node_r = np.concatenate([np.zeros([16,1]), np.ones([24,1])], axis=0)\n",
    "child_node_l = np.concatenate([np.zeros([34,1]), np.ones([26,1])], axis=0)"
   ]
  },
  {
   "cell_type": "code",
   "execution_count": 12,
   "metadata": {
    "collapsed": true
   },
   "outputs": [],
   "source": [
    "# 親ノードのエントロピー\n",
    "entropy_p = entropy(parent_node)\n",
    "\n",
    "# 分割後のノードのエントロピー\n",
    "entropy_cr = entropy(child_node_r)\n",
    "p_cr = len(child_node_r) / len(parent_node)\n",
    "entropy_cl = entropy(child_node_l)\n",
    "p_cl = len(child_node_l) / len(parent_node)\n",
    "\n",
    "# 子ノードのエントロピー\n",
    "entropy_c = (p_cr * entropy_cr) + (p_cl * entropy_cl)"
   ]
  },
  {
   "cell_type": "code",
   "execution_count": 13,
   "metadata": {
    "collapsed": true
   },
   "outputs": [],
   "source": [
    "# エントロピーでの不純度の減り方\n",
    "impurity_e2 = entropy_p - entropy_c"
   ]
  },
  {
   "cell_type": "code",
   "execution_count": 14,
   "metadata": {},
   "outputs": [
    {
     "data": {
      "text/plain": [
       "0.006550954283974064"
      ]
     },
     "execution_count": 14,
     "metadata": {},
     "output_type": "execute_result"
    }
   ],
   "source": [
    "impurity_e2"
   ]
  },
  {
   "cell_type": "code",
   "execution_count": 15,
   "metadata": {
    "collapsed": true
   },
   "outputs": [],
   "source": [
    "# 親ノードのジニ係数\n",
    "gini_p = gini_func(parent_node)\n",
    "\n",
    "# 子ノードのジニ係数\n",
    "gini_cr = gini_func(child_node_r)\n",
    "p_cr = len(child_node_r) / len(parent_node)\n",
    "gini_cl = gini_func(child_node_l)\n",
    "p_cl = len(child_node_l) / len(parent_node)\n",
    "gini_c = (p_cr * gini_cr) + (p_cl * gini_cl)"
   ]
  },
  {
   "cell_type": "code",
   "execution_count": 16,
   "metadata": {
    "collapsed": true
   },
   "outputs": [],
   "source": [
    "# ジニ係数での不純度の減り方\n",
    "impurity_g2 = gini_p - gini_c"
   ]
  },
  {
   "cell_type": "code",
   "execution_count": 17,
   "metadata": {},
   "outputs": [
    {
     "data": {
      "text/plain": [
       "0.013333333333333364"
      ]
     },
     "execution_count": 17,
     "metadata": {},
     "output_type": "execute_result"
    }
   ],
   "source": [
    "impurity_g2"
   ]
  },
  {
   "cell_type": "markdown",
   "metadata": {
    "collapsed": true
   },
   "source": [
    "### 結果の比較"
   ]
  },
  {
   "cell_type": "code",
   "execution_count": 18,
   "metadata": {},
   "outputs": [
    {
     "name": "stdout",
     "output_type": "stream",
     "text": [
      "Entropy\n",
      "Good Fit Model: 0.10003574044444735\n",
      "Bad Fit Model: 0.006550954283974064\n"
     ]
    }
   ],
   "source": [
    "# エントロピー\n",
    "print('Entropy\\nGood Fit Model: {}\\nBad Fit Model: {}'.format(impurity_e1, impurity_e2))"
   ]
  },
  {
   "cell_type": "code",
   "execution_count": 19,
   "metadata": {},
   "outputs": [
    {
     "name": "stdout",
     "output_type": "stream",
     "text": [
      "Gini Index\n",
      "Good Fit Model: 0.21771428571428575\n",
      "Bad Fit Model: 0.013333333333333364\n"
     ]
    }
   ],
   "source": [
    "# ジニ係数\n",
    "print('Gini Index\\nGood Fit Model: {}\\nBad Fit Model: {}'.format(impurity_g1, impurity_g2))"
   ]
  },
  {
   "cell_type": "markdown",
   "metadata": {},
   "source": [
    "いずれの不純度の出し方においてもよりよく分割できているデータセットの方が不純度を大きく減らしているとわかる"
   ]
  },
  {
   "cell_type": "code",
   "execution_count": null,
   "metadata": {
    "collapsed": true
   },
   "outputs": [],
   "source": []
  }
 ],
 "metadata": {
  "kernelspec": {
   "display_name": "Python 3",
   "language": "python",
   "name": "python3"
  },
  "language_info": {
   "codemirror_mode": {
    "name": "ipython",
    "version": 3
   },
   "file_extension": ".py",
   "mimetype": "text/x-python",
   "name": "python",
   "nbconvert_exporter": "python",
   "pygments_lexer": "ipython3",
   "version": "3.6.6"
  }
 },
 "nbformat": 4,
 "nbformat_minor": 2
}
