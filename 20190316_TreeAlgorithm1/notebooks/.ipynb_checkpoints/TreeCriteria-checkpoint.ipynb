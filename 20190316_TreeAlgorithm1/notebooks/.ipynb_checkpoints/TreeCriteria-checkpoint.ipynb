{
 "cells": [
  {
   "cell_type": "markdown",
   "metadata": {},
   "source": [
    "## 不純度の実験\n",
    "ここでは交差エントロピーとジニ係数の試験をする   \n",
    "\n",
    "TODO: 日本語直す、ジニ係数の出し方修正（明らかに違う）、エントロピーの出し方点検"
   ]
  },
  {
   "cell_type": "code",
   "execution_count": 58,
   "metadata": {
    "collapsed": true
   },
   "outputs": [],
   "source": [
    "import numpy as np"
   ]
  },
  {
   "cell_type": "markdown",
   "metadata": {},
   "source": [
    "### 状況設定\n",
    "識別規則により親ノードが以下のように分割されたと仮定   \n",
    "\n",
    "    親ノード → positive:negative = 50:50  (データ数：100）   \n",
    "    子ノード（右） → positive:negative = 20:80  (データ数：40）   \n",
    "    子ノード（左） → positive:negative = 90:10  (データ数：60）   "
   ]
  },
  {
   "cell_type": "code",
   "execution_count": 59,
   "metadata": {},
   "outputs": [],
   "source": [
    "r_node = np.concatenate([np.zeros([50,1]), np.ones([50,1])], axis=0)\n",
    "p_node_r = np.concatenate([np.zeros([8,1]), np.ones([32,1])], axis=0)\n",
    "p_node_l = np.concatenate([np.zeros([54,1]), np.ones([9,1])], axis=0)"
   ]
  },
  {
   "cell_type": "markdown",
   "metadata": {},
   "source": [
    "### エントロピー"
   ]
  },
  {
   "cell_type": "code",
   "execution_count": 60,
   "metadata": {
    "collapsed": true
   },
   "outputs": [],
   "source": [
    "def entropy(target):\n",
    "  classes = np.unique(target)\n",
    "  num_data = len(target)\n",
    "\n",
    "  val = 0\n",
    "  for c in classes:\n",
    "    p = float(len(target[target == c])) / num_data\n",
    "    if p!=0.0:\n",
    "        val -= p * np.log2(p)\n",
    "\n",
    "  return val"
   ]
  },
  {
   "cell_type": "code",
   "execution_count": 61,
   "metadata": {},
   "outputs": [],
   "source": [
    "entropy_r = entropy(r_node)\n",
    "entropy_pr = entropy(p_node_r)\n",
    "pr = len(p_node_r) / len(r_node)\n",
    "entropy_pl = entropy(p_node_l)\n",
    "pl = len(p_node_l) / len(r_node)\n",
    "entropy_p = (pl * entropy_pr) + (pr * entropy_pl)"
   ]
  },
  {
   "cell_type": "code",
   "execution_count": 62,
   "metadata": {},
   "outputs": [],
   "source": [
    "impurity_e = entropy_r - entropy_p"
   ]
  },
  {
   "cell_type": "code",
   "execution_count": 63,
   "metadata": {},
   "outputs": [
    {
     "data": {
      "text/plain": [
       "0.3085161887880308"
      ]
     },
     "execution_count": 63,
     "metadata": {},
     "output_type": "execute_result"
    }
   ],
   "source": [
    "impurity_e"
   ]
  },
  {
   "cell_type": "markdown",
   "metadata": {},
   "source": [
    "### ジニ係数"
   ]
  },
  {
   "cell_type": "code",
   "execution_count": 64,
   "metadata": {
    "collapsed": true
   },
   "outputs": [],
   "source": [
    "def gini_func(target):\n",
    "  val = 1.0\n",
    "  classes = np.unique(target)\n",
    "  num_data = len(target)\n",
    "  for c in classes:\n",
    "    p = float(len(target[target == c])) / num_data\n",
    "    val -= p ** 2.0\n",
    "\n",
    "  return val"
   ]
  },
  {
   "cell_type": "code",
   "execution_count": 65,
   "metadata": {},
   "outputs": [],
   "source": [
    "gini_r = gini_func(r_node)\n",
    "gini_pr = gini_func(p_node_r)\n",
    "pr = len(p_node_r) / len(r_node)\n",
    "gini_pl = gini_func(p_node_l)\n",
    "pl = len(p_node_l) / len(r_node)\n",
    "gini_p = (pl * gini_pr) + (pr * gini_pl)"
   ]
  },
  {
   "cell_type": "code",
   "execution_count": 66,
   "metadata": {},
   "outputs": [],
   "source": [
    "impurity_g = gini_r - gini_p"
   ]
  },
  {
   "cell_type": "code",
   "execution_count": 67,
   "metadata": {},
   "outputs": [
    {
     "data": {
      "text/plain": [
       "0.20044081632653066"
      ]
     },
     "execution_count": 67,
     "metadata": {},
     "output_type": "execute_result"
    }
   ],
   "source": [
    "impurity_g"
   ]
  },
  {
   "cell_type": "code",
   "execution_count": null,
   "metadata": {
    "collapsed": true
   },
   "outputs": [],
   "source": []
  },
  {
   "cell_type": "markdown",
   "metadata": {},
   "source": [
    "## 別の分割方法と結果を比べる"
   ]
  },
  {
   "cell_type": "code",
   "execution_count": 68,
   "metadata": {
    "collapsed": true
   },
   "outputs": [],
   "source": [
    "# 親ノードは同じで子ノード内の割合を変える\n",
    "r_node = np.concatenate([np.zeros([50,1]), np.ones([50,1])], axis=0)\n",
    "p_node_r = np.concatenate([np.zeros([16,1]), np.ones([24,1])], axis=0)\n",
    "p_node_l = np.concatenate([np.zeros([34,1]), np.ones([26,1])], axis=0)"
   ]
  },
  {
   "cell_type": "code",
   "execution_count": 69,
   "metadata": {
    "collapsed": true
   },
   "outputs": [],
   "source": [
    "entropy_r = entropy(r_node)\n",
    "entropy_pr = entropy(p_node_r)\n",
    "pr = len(p_node_r) / len(r_node)\n",
    "entropy_pl = entropy(p_node_l)\n",
    "pl = len(p_node_l) / len(r_node)\n",
    "entropy_p = (pl * entropy_pr) + (pr * entropy_pl)"
   ]
  },
  {
   "cell_type": "code",
   "execution_count": 70,
   "metadata": {},
   "outputs": [],
   "source": [
    "impurity_e = entropy_r - entropy_p"
   ]
  },
  {
   "cell_type": "code",
   "execution_count": 71,
   "metadata": {},
   "outputs": [
    {
     "data": {
      "text/plain": [
       "0.022574533578324285"
      ]
     },
     "execution_count": 71,
     "metadata": {},
     "output_type": "execute_result"
    }
   ],
   "source": [
    "impurity_e"
   ]
  },
  {
   "cell_type": "code",
   "execution_count": 72,
   "metadata": {
    "collapsed": true
   },
   "outputs": [],
   "source": [
    "gini_r = gini_func(r_node)\n",
    "gini_pr = gini_func(p_node_r)\n",
    "pr = len(p_node_r) / len(r_node)\n",
    "gini_pl = gini_func(p_node_l)\n",
    "pl = len(p_node_l) / len(r_node)\n",
    "gini_p = (pl * gini_pr) + (pr * gini_pl)"
   ]
  },
  {
   "cell_type": "code",
   "execution_count": 73,
   "metadata": {},
   "outputs": [],
   "source": [
    "impurity_g = gini_r - gini_p"
   ]
  },
  {
   "cell_type": "code",
   "execution_count": 74,
   "metadata": {},
   "outputs": [
    {
     "data": {
      "text/plain": [
       "0.0155555555555556"
      ]
     },
     "execution_count": 74,
     "metadata": {},
     "output_type": "execute_result"
    }
   ],
   "source": [
    "impurity_g"
   ]
  },
  {
   "cell_type": "code",
   "execution_count": null,
   "metadata": {
    "collapsed": true
   },
   "outputs": [],
   "source": []
  }
 ],
 "metadata": {
  "kernelspec": {
   "display_name": "Python 3",
   "language": "python",
   "name": "python3"
  },
  "language_info": {
   "codemirror_mode": {
    "name": "ipython",
    "version": 3
   },
   "file_extension": ".py",
   "mimetype": "text/x-python",
   "name": "python",
   "nbconvert_exporter": "python",
   "pygments_lexer": "ipython3",
   "version": "3.6.6"
  }
 },
 "nbformat": 4,
 "nbformat_minor": 2
}
