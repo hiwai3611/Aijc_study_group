{
 "cells": [
  {
   "cell_type": "markdown",
   "metadata": {},
   "source": [
    "## Bootstrap Samplingの例\n",
    "ここでは以下の記事のコードを転載（一部追加あり）   \n",
    "https://qiita.com/tjmnmn/items/3aed6fb85f75446f74ca"
   ]
  },
  {
   "cell_type": "code",
   "execution_count": 1,
   "metadata": {
    "collapsed": true
   },
   "outputs": [],
   "source": [
    "from sklearn.utils import resample\n",
    "import numpy"
   ]
  },
  {
   "cell_type": "code",
   "execution_count": 2,
   "metadata": {
    "collapsed": true
   },
   "outputs": [],
   "source": [
    "# [0,1,2,...,9]と[10,11,12,...,19]の生成\n",
    "data_x = [i for i in range(10)]\n",
    "data_y = [i+10 for i in range(10)]\n"
   ]
  },
  {
   "cell_type": "code",
   "execution_count": 3,
   "metadata": {},
   "outputs": [
    {
     "name": "stdout",
     "output_type": "stream",
     "text": [
      "------0 resample ------\n",
      "[0 6 5 1 5 3 4 2 5 0]\n",
      "[13 14 19 12 19 13 14 10 13 19]\n",
      "------1 resample ------\n",
      "[9 2 2 3 9 2 9 4 5 4]\n",
      "[19 12 10 14 12 15 19 10 11 16]\n",
      "------2 resample ------\n",
      "[7 4 2 9 1 9 4 0 0 7]\n",
      "[14 17 13 15 13 18 16 10 16 13]\n",
      "------3 resample ------\n",
      "[6 3 4 7 2 6 8 2 2 2]\n",
      "[17 10 18 12 11 19 15 19 14 14]\n",
      "------4 resample ------\n",
      "[7 7 4 9 8 8 1 1 4 1]\n",
      "[13 18 16 12 15 17 10 13 16 17]\n",
      "------5 resample ------\n",
      "[5 9 5 8 9 3 2 4 7 8]\n",
      "[14 19 17 11 14 19 10 15 14 14]\n",
      "------6 resample ------\n",
      "[6 8 7 3 6 2 7 8 8 9]\n",
      "[10 18 13 13 12 16 10 16 16 13]\n",
      "------7 resample ------\n",
      "[8 7 2 4 7 3 0 6 1 9]\n",
      "[12 16 19 18 18 15 11 13 11 19]\n",
      "------8 resample ------\n",
      "[8 2 0 1 4 8 1 8 4 6]\n",
      "[14 13 14 12 11 10 17 13 15 13]\n",
      "------9 resample ------\n",
      "[3 0 5 8 2 9 0 8 7 8]\n",
      "[19 13 19 16 18 13 12 15 19 11]\n"
     ]
    }
   ],
   "source": [
    "# K:再標本化の回数 SIZE:再標本化されたもののサンプルサイズ\n",
    "K = 10\n",
    "SIZE = len(data_x)\n",
    "\n",
    "# bootstrap sampling\n",
    "for i in range(K):\n",
    "    # sklearnでもnumpyでもどちらでも大丈夫\n",
    "    resampled_data_x = numpy.random.choice(data_x, size=SIZE)\n",
    "    resampled_data_y = numpy.random.choice(data_y, size=SIZE)\n",
    "    #resampled_data_x, resampled_data_y = resample(data_x,data_y, \n",
    "                                                   #n_samples = SIZE)\n",
    "    print(\"------%d resample ------\"% i)\n",
    "    print(resampled_data_x)\n",
    "    print(resampled_data_y)"
   ]
  },
  {
   "cell_type": "code",
   "execution_count": null,
   "metadata": {
    "collapsed": true
   },
   "outputs": [],
   "source": []
  },
  {
   "cell_type": "code",
   "execution_count": null,
   "metadata": {
    "collapsed": true
   },
   "outputs": [],
   "source": []
  }
 ],
 "metadata": {
  "kernelspec": {
   "display_name": "Python 3",
   "language": "python",
   "name": "python3"
  },
  "language_info": {
   "codemirror_mode": {
    "name": "ipython",
    "version": 3
   },
   "file_extension": ".py",
   "mimetype": "text/x-python",
   "name": "python",
   "nbconvert_exporter": "python",
   "pygments_lexer": "ipython3",
   "version": "3.6.6"
  }
 },
 "nbformat": 4,
 "nbformat_minor": 2
}
