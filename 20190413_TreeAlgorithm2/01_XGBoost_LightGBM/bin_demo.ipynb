{
 "cells": [
  {
   "cell_type": "markdown",
   "metadata": {
    "colab_type": "text",
    "id": "JMhzwBhPBBt8"
   },
   "source": [
    "# Binning"
   ]
  },
  {
   "cell_type": "code",
   "execution_count": 0,
   "metadata": {
    "colab": {},
    "colab_type": "code",
    "id": "0x5w-cgtBMNF"
   },
   "outputs": [],
   "source": [
    "# mglearn インストールができていなければ、こちらを実行\n",
    "# !pip install mglearn"
   ]
  },
  {
   "cell_type": "code",
   "execution_count": 0,
   "metadata": {
    "colab": {
     "base_uri": "https://localhost:8080/",
     "height": 300
    },
    "colab_type": "code",
    "executionInfo": {
     "elapsed": 2288,
     "status": "ok",
     "timestamp": 1555080491360,
     "user": {
      "displayName": "ayaka nagata",
      "photoUrl": "",
      "userId": "00169636713953937583"
     },
     "user_tz": -540
    },
    "id": "1889kuNnBBuA",
    "outputId": "8358cc61-41e4-43f1-ff3f-5d24f7d16dbc"
   },
   "outputs": [
    {
     "data": {
      "text/plain": [
       "<function matplotlib.pyplot.show>"
      ]
     },
     "execution_count": 3,
     "metadata": {
      "tags": []
     },
     "output_type": "execute_result"
    },
    {
     "data": {
      "image/png": "[encoded data removed]",
      "text/plain": [
       "<Figure size 432x288 with 1 Axes>"
      ]
     },
     "metadata": {
      "tags": []
     },
     "output_type": "display_data"
    }
   ],
   "source": [
    "import mglearn\n",
    "import numpy as np\n",
    "import matplotlib.pyplot as plt\n",
    "from sklearn.linear_model import LinearRegression\n",
    "from sklearn.tree import DecisionTreeRegressor\n",
    "from sklearn.preprocessing import OneHotEncoder\n",
    "\n",
    "# データセット作成　\n",
    "# make_wave:mglearnというライブラリで自動生成した回帰用のサンプルデータ\n",
    "X, y = mglearn.datasets.make_wave(n_samples=100)\n",
    "line = np.linspace(-3, 3, 1000, endpoint=False).reshape(-1, 1)\n",
    "\n",
    "# 決定木のモデルを生成・予測する\n",
    "reg = DecisionTreeRegressor(min_samples_split=3).fit(X, y)\n",
    "plt.plot(line, reg.predict(line), label='decision tree')\n",
    "\n",
    "# 線形回帰モデルを生成・予測する\n",
    "reg = LinearRegression().fit(X, y)\n",
    "plt.plot(line, reg.predict(line), label='linear regression')\n",
    "\n",
    "# 元データをドットプロットで一緒に表示する\n",
    "plt.plot(X[:, 0], y, 'o', c='k')\n",
    "plt.ylabel('Regression output')\n",
    "plt.xlabel('Input feature')\n",
    "plt.legend(loc='best')\n",
    "\n",
    "plt.show"
   ]
  },
  {
   "cell_type": "code",
   "execution_count": 0,
   "metadata": {
    "colab": {
     "base_uri": "https://localhost:8080/",
     "height": 34
    },
    "colab_type": "code",
    "executionInfo": {
     "elapsed": 850,
     "status": "ok",
     "timestamp": 1555080495222,
     "user": {
      "displayName": "ayaka nagata",
      "photoUrl": "",
      "userId": "00169636713953937583"
     },
     "user_tz": -540
    },
    "id": "jdjLMYLGBBuT",
    "outputId": "5699f9e0-ed7c-4fc4-912b-698ab516a448"
   },
   "outputs": [
    {
     "name": "stdout",
     "output_type": "stream",
     "text": [
      "bins: [-3.  -2.4 -1.8 -1.2 -0.6  0.   0.6  1.2  1.8  2.4  3. ]\n"
     ]
    }
   ],
   "source": [
    "# binの枠を作成する（データを11箇所で区切って、10個のbinを作成している）\n",
    "bins = np.linspace(-3, 3, 11)\n",
    "print('bins: {}'.format(bins))"
   ]
  },
  {
   "cell_type": "code",
   "execution_count": 0,
   "metadata": {
    "colab": {
     "base_uri": "https://localhost:8080/",
     "height": 102
    },
    "colab_type": "code",
    "executionInfo": {
     "elapsed": 783,
     "status": "ok",
     "timestamp": 1555080496322,
     "user": {
      "displayName": "ayaka nagata",
      "photoUrl": "",
      "userId": "00169636713953937583"
     },
     "user_tz": -540
    },
    "id": "CP-YNabKBBud",
    "outputId": "6155a633-04db-4e36-8ab1-74e7081ba929"
   },
   "outputs": [
    {
     "name": "stdout",
     "output_type": "stream",
     "text": [
      "[-0.75275929] => [4]\n",
      "[2.70428584] => [10]\n",
      "[1.39196365] => [8]\n",
      "[0.59195091] => [6]\n",
      "[-2.06388816] => [2]\n"
     ]
    }
   ],
   "source": [
    "# 変数Xをbinに入れる\n",
    "which_bin = np.digitize(X, bins=bins)\n",
    "for i in range(5):\n",
    "    print('{} => {}'.format(X[i],which_bin[i]))"
   ]
  },
  {
   "cell_type": "code",
   "execution_count": 0,
   "metadata": {
    "colab": {
     "base_uri": "https://localhost:8080/",
     "height": 122
    },
    "colab_type": "code",
    "executionInfo": {
     "elapsed": 688,
     "status": "ok",
     "timestamp": 1555080497365,
     "user": {
      "displayName": "ayaka nagata",
      "photoUrl": "",
      "userId": "00169636713953937583"
     },
     "user_tz": -540
    },
    "id": "mGqZoFElBBul",
    "outputId": "d76675ff-241e-4654-dff3-24039b672ac0"
   },
   "outputs": [
    {
     "name": "stdout",
     "output_type": "stream",
     "text": [
      "X_binned.shape: (100, 10)\n"
     ]
    },
    {
     "name": "stderr",
     "output_type": "stream",
     "text": [
      "/usr/local/lib/python3.6/dist-packages/sklearn/preprocessing/_encoders.py:371: FutureWarning: The handling of integer data will change in version 0.22. Currently, the categories are determined based on the range [0, max(values)], while in the future they will be determined based on the unique values.\n",
      "If you want the future behaviour and silence this warning, you can specify \"categories='auto'\".\n",
      "In case you used a LabelEncoder before this OneHotEncoder to convert the categories to integers, then you can now use the OneHotEncoder directly.\n",
      "  warnings.warn(msg, FutureWarning)\n"
     ]
    }
   ],
   "source": [
    "# One-Hotエンコーディングする\n",
    "encoder = OneHotEncoder(sparse=False)\n",
    "encoder.fit(which_bin)\n",
    "X_binned = encoder.transform(which_bin)\n",
    "print('X_binned.shape: {}'.format(X_binned.shape))"
   ]
  },
  {
   "cell_type": "code",
   "execution_count": 0,
   "metadata": {
    "colab": {},
    "colab_type": "code",
    "id": "7Xt9afDwBBus",
    "scrolled": true
   },
   "outputs": [],
   "source": [
    "print(X_binned)"
   ]
  },
  {
   "cell_type": "code",
   "execution_count": 0,
   "metadata": {
    "colab": {
     "base_uri": "https://localhost:8080/",
     "height": 300
    },
    "colab_type": "code",
    "executionInfo": {
     "elapsed": 1057,
     "status": "ok",
     "timestamp": 1555080560433,
     "user": {
      "displayName": "ayaka nagata",
      "photoUrl": "",
      "userId": "00169636713953937583"
     },
     "user_tz": -540
    },
    "id": "tprXEU9lBBuy",
    "outputId": "c6bc0458-18dd-431f-e8a9-1d7999d79bd0",
    "scrolled": true
   },
   "outputs": [
    {
     "data": {
      "text/plain": [
       "<function matplotlib.pyplot.show>"
      ]
     },
     "execution_count": 9,
     "metadata": {
      "tags": []
     },
     "output_type": "execute_result"
    },
    {
     "data": {
      "image/png": "[encoded data removed]",
      "text/plain": [
       "<Figure size 432x288 with 1 Axes>"
      ]
     },
     "metadata": {
      "tags": []
     },
     "output_type": "display_data"
    }
   ],
   "source": [
    "# lineもbin単位に変換する\n",
    "line_binned = encoder.transform(np.digitize(line, bins=bins))\n",
    "\n",
    "# 決定木をbin単位で作成予測する\n",
    "reg = DecisionTreeRegressor(min_samples_split=3).fit(X_binned, y)\n",
    "plt.plot(line, reg.predict(line_binned), label='decision tree binned')\n",
    "plt.plot(X[:, 0], y, 'o', c='k')\n",
    "\n",
    "# 線形回帰直線を重ねる\n",
    "reg = LinearRegression().fit(X, y)\n",
    "plt.plot(line, reg.predict(line), label='linear regression')\n",
    "\n",
    "# 元データをドットプロットで一緒に表示する\n",
    "plt.vlines(bins, -3, 3, linewidth=1, alpha=.2)\n",
    "plt.ylabel('Regression output')\n",
    "plt.xlabel('Input feature')\n",
    "plt.legend(loc='best')\n",
    "\n",
    "plt.show"
   ]
  },
  {
   "cell_type": "code",
   "execution_count": 0,
   "metadata": {
    "colab": {
     "base_uri": "https://localhost:8080/",
     "height": 300
    },
    "colab_type": "code",
    "executionInfo": {
     "elapsed": 1043,
     "status": "ok",
     "timestamp": 1555080588745,
     "user": {
      "displayName": "ayaka nagata",
      "photoUrl": "",
      "userId": "00169636713953937583"
     },
     "user_tz": -540
    },
    "id": "3jQAlyYuBBu6",
    "outputId": "7f378289-2245-4902-f3f1-2bbe442d7c13"
   },
   "outputs": [
    {
     "data": {
      "text/plain": [
       "<function matplotlib.pyplot.show>"
      ]
     },
     "execution_count": 10,
     "metadata": {
      "tags": []
     },
     "output_type": "execute_result"
    },
    {
     "data": {
      "image/png": "[encoded data removed]",
      "text/plain": [
       "<Figure size 432x288 with 1 Axes>"
      ]
     },
     "metadata": {
      "tags": []
     },
     "output_type": "display_data"
    }
   ],
   "source": [
    "# 因みに…make_waveデータだと、線形回帰もbin単位で行っても同じ形になってしまう。\n",
    "reg = LinearRegression().fit(X_binned, y)\n",
    "plt.plot(line, reg.predict(line_binned), label='linear regression binned')\n",
    "\n",
    "reg = LinearRegression().fit(X, y)\n",
    "plt.plot(line, reg.predict(line), label='linear regression')\n",
    "\n",
    "plt.plot(X[:, 0], y, 'o', c='k')\n",
    "plt.vlines(bins, -3, 3, linewidth=1, alpha=.2)\n",
    "plt.ylabel('Regression output')\n",
    "plt.xlabel('Input feature')\n",
    "plt.legend(loc='best')\n",
    "\n",
    "plt.show"
   ]
  },
  {
   "cell_type": "code",
   "execution_count": 0,
   "metadata": {
    "colab": {},
    "colab_type": "code",
    "id": "x9Jgeo7FBBvy"
   },
   "outputs": [],
   "source": []
  }
 ],
 "metadata": {
  "colab": {
   "collapsed_sections": [],
   "name": "bin_demo.ipynb のコピー",
   "provenance": [
    {
     "file_id": "17EEwHmkuqweX8ec8u7rsMTcljsnFBW5z",
     "timestamp": 1555080802151
    }
   ],
   "version": "0.3.2"
  },
  "kernelspec": {
   "display_name": "Python 3",
   "language": "python",
   "name": "python3"
  },
  "language_info": {
   "codemirror_mode": {
    "name": "ipython",
    "version": 3
   },
   "file_extension": ".py",
   "mimetype": "text/x-python",
   "name": "python",
   "nbconvert_exporter": "python",
   "pygments_lexer": "ipython3",
   "version": "3.6.4"
  }
 },
 "nbformat": 4,
 "nbformat_minor": 1
}
