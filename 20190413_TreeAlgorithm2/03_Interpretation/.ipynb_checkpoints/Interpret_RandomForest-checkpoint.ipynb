{
 "cells": [
  {
   "cell_type": "markdown",
   "metadata": {},
   "source": [
    "# Random Forestで機械学習の結果を解釈する"
   ]
  },
  {
   "cell_type": "code",
   "execution_count": null,
   "metadata": {
    "colab": {},
    "colab_type": "code",
    "id": "9oKvXHI0ywxW",
    "scrolled": true
   },
   "outputs": [],
   "source": [
    "%matplotlib inline\n",
    "from math import sqrt\n",
    "import numpy as np\n",
    "import pandas as pd\n",
    "import matplotlib.pyplot as plt\n",
    "\n",
    "from sklearn.tree import DecisionTreeClassifier\n",
    "from sklearn.ensemble import RandomForestRegressor\n",
    "import xgboost as xgb\n",
    "from sklearn.model_selection import train_test_split\n",
    "from sklearn.metrics import mean_squared_error\n"
   ]
  },
  {
   "cell_type": "code",
   "execution_count": null,
   "metadata": {
    "colab": {
     "base_uri": "https://localhost:8080/",
     "height": 292
    },
    "colab_type": "code",
    "id": "Nl4-CtMNywxb",
    "outputId": "70a61665-9725-4e8d-9904-83c3b97d1e65"
   },
   "outputs": [],
   "source": [
    "df_date_data = pd.read_csv('../data/org/day.csv', header=0)\n",
    "df_date_data.head()"
   ]
  },
  {
   "cell_type": "code",
   "execution_count": null,
   "metadata": {
    "colab": {
     "base_uri": "https://localhost:8080/",
     "height": 191
    },
    "colab_type": "code",
    "id": "J7knnXBUywxj",
    "outputId": "eb59f248-9b2e-4485-dafe-1a8b6caa7b22"
   },
   "outputs": [],
   "source": [
    "#今回使用するカラムに限定\n",
    "used_columns = ['cnt', 'season', 'yr', 'mnth', 'holiday', 'weathersit', 'temp', 'hum', 'windspeed']\n",
    "df = df_date_data.loc[:,used_columns]\n",
    "df.head()"
   ]
  },
  {
   "cell_type": "code",
   "execution_count": null,
   "metadata": {
    "colab": {},
    "colab_type": "code",
    "collapsed": true,
    "id": "oEMflpNPywxo"
   },
   "outputs": [],
   "source": [
    "#特定のカラムに関して、ダミー変数を作成する\n",
    "\n",
    "ohe_columns = ['season', 'mnth', 'weathersit']\n",
    "df_ohe = pd.get_dummies(df, columns=ohe_columns)"
   ]
  },
  {
   "cell_type": "code",
   "execution_count": null,
   "metadata": {
    "colab": {
     "base_uri": "https://localhost:8080/",
     "height": 218
    },
    "colab_type": "code",
    "id": "TrRTfOr5ywxs",
    "outputId": "b2dabeb8-fdcf-47f3-ffbd-d6cd3d1f3c93"
   },
   "outputs": [],
   "source": [
    "X = df_ohe.iloc[:, 1:]\n",
    "y = df_ohe.iloc[:, 0]\n",
    "train_X, test_X, train_y, test_y = train_test_split(X, y, test_size=0.2, random_state=0)\n",
    "\n",
    "X.head()"
   ]
  },
  {
   "cell_type": "markdown",
   "metadata": {},
   "source": [
    "### RandomForest + feature importance"
   ]
  },
  {
   "cell_type": "code",
   "execution_count": null,
   "metadata": {
    "colab": {
     "base_uri": "https://localhost:8080/",
     "height": 33
    },
    "colab_type": "code",
    "id": "k4Jp67btywxv",
    "outputId": "38399ccc-311b-45df-8e16-a50f7f85ea03"
   },
   "outputs": [],
   "source": [
    "rf_model = RandomForestRegressor(n_estimators=10,random_state=50)\n",
    "rf_model.fit(train_X, train_y)\n",
    "\n",
    "pred_y = rf_model.predict(test_X)\n",
    "score = sqrt(mean_squared_error(test_y, pred_y))\n",
    "\n",
    "print('RMSE: {}'.format(score))"
   ]
  },
  {
   "cell_type": "code",
   "execution_count": null,
   "metadata": {
    "colab": {
     "base_uri": "https://localhost:8080/",
     "height": 595
    },
    "colab_type": "code",
    "id": "ffdCHi4Tywx0",
    "outputId": "a72be45a-907d-4480-81cd-239a439b0a6d",
    "scrolled": true
   },
   "outputs": [],
   "source": [
    "# feature importance\n",
    "# tempの影響度がかなり大きい\n",
    "features = df_ohe.columns[1:]\n",
    "importances = rf_model.feature_importances_\n",
    "indices = np.argsort(importances)\n",
    "\n",
    "plt.figure(figsize=(10,10))\n",
    "plt.barh(range(len(indices)), importances[indices], color='b', align='center')\n",
    "plt.yticks(range(len(indices)), features[indices])\n",
    "plt.show()"
   ]
  },
  {
   "cell_type": "markdown",
   "metadata": {
    "colab_type": "text",
    "id": "kGyKGHdUGSz5"
   },
   "source": [
    "### Random Forest + Permutation Importance"
   ]
  },
  {
   "cell_type": "code",
   "execution_count": null,
   "metadata": {
    "colab": {
     "base_uri": "https://localhost:8080/",
     "height": 375
    },
    "colab_type": "code",
    "id": "DBwRNQX3EmrQ",
    "outputId": "439711db-e7d7-49a0-8380-b4dadd8a0512"
   },
   "outputs": [],
   "source": [
    "# !pip install eli5\n",
    "import eli5\n",
    "from eli5.sklearn import PermutationImportance\n",
    "\n",
    "perm = PermutationImportance(rf_model, random_state=1).fit(train_X, train_y)\n",
    "eli5.show_weights(perm, feature_names = train_X.columns.tolist())"
   ]
  },
  {
   "cell_type": "markdown",
   "metadata": {},
   "source": [
    "### Random Forest + Partial Dependence Plot"
   ]
  },
  {
   "cell_type": "code",
   "execution_count": null,
   "metadata": {
    "colab": {
     "base_uri": "https://localhost:8080/",
     "height": 582
    },
    "colab_type": "code",
    "id": "LCqo6nGDywx5",
    "outputId": "0e78752f-e08f-429f-8ece-e3a425c051a8"
   },
   "outputs": [],
   "source": [
    "# !pip install pdpbox\n",
    "from pdpbox import pdp, get_dataset, info_plots\n",
    "\n",
    "# Create the data that we will plot\n",
    "features = train_X.columns.values\n",
    "feature_to_plot = 'temp'\n",
    "pdp_goals = pdp.pdp_isolate(model=rf_model, dataset=train_X[features], model_features=list(features), feature=feature_to_plot)\n",
    "\n",
    "# PDPの実行\n",
    "# データ自体が元から正規化されているためここでは具体的な値がわからないが傾向はつかめる\n",
    "pdp.pdp_plot(pdp_goals, feature_to_plot)\n",
    "plt.show()"
   ]
  },
  {
   "cell_type": "code",
   "execution_count": null,
   "metadata": {
    "collapsed": true
   },
   "outputs": [],
   "source": []
  }
 ],
 "metadata": {
  "colab": {
   "collapsed_sections": [],
   "name": "Interpret_RandomForest.ipynb",
   "provenance": [],
   "version": "0.3.2"
  },
  "kernelspec": {
   "display_name": "Python 3",
   "language": "python",
   "name": "python3"
  },
  "language_info": {
   "codemirror_mode": {
    "name": "ipython",
    "version": 3
   },
   "file_extension": ".py",
   "mimetype": "text/x-python",
   "name": "python",
   "nbconvert_exporter": "python",
   "pygments_lexer": "ipython3",
   "version": "3.6.6"
  }
 },
 "nbformat": 4,
 "nbformat_minor": 1
}
